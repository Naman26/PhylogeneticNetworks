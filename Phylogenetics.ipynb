{
 "cells": [
  {
   "cell_type": "code",
   "execution_count": 120,
   "metadata": {
    "scrolled": true
   },
   "outputs": [
    {
     "name": "stdout",
     "output_type": "stream",
     "text": [
      "Maximal SubsetsArray{Any,1}[Any[5], Any[1, 2, 3, 4]]\n",
      "consistentN=Dict{Int64,Array}(Pair{Int64,Array}(4, [-3]),Pair{Int64,Array}(-4, [-2, -3, 3]),Pair{Int64,Array}(-3, [4, -4, -1]),Pair{Int64,Array}(2, [-2]),Pair{Int64,Array}(-2, [1, 2, -4, -1]),Pair{Int64,Array}(-1, [-2, -3, -5]),Pair{Int64,Array}(3, [-4]),Pair{Int64,Array}(-5, [-1, 5]),Pair{Int64,Array}(5, [-5]),Pair{Int64,Array}(1, [-2]))\n"
     ]
    }
   ],
   "source": [
    "include(\"ComputeSN.jl\")\n",
    "include(\"OneHybridLeaf.jl\")\n",
    "\n",
    "\n",
    "function levelOne(T,L)\n",
    "\tset_SN = retComputeSN(T,L)\n",
    "\tmaximumSubsets= maximalSubsets(set_SN,L)\n",
    "# \tprint(maximumSubsets)\n",
    "\ttree=[]\n",
    "    N=[]\n",
    "\tfor SN in maximumSubsets\n",
    "\t\tif length(SN)>=3\n",
    "\t\t\t# temp=retComputeSN(T,SN)\n",
    "\t\t\t# maximumSets=maximalSubsets(temp,L)\n",
    "\t\t\t# println(maximumSets)\n",
    "\t\t\tL=SN\n",
    "\t\t\tlevelOne(T,L)\n",
    "\t\telse\n",
    "\t\t\t# tree=\n",
    "            # TODO pending\n",
    "# \t\t\tprintln(\"need to make a tree with these 2 nodes/ make adjacency list\")\n",
    "#             edge with 5 leaf\n",
    "\t\tend\n",
    "\tend\n",
    "    \n",
    "    if(length(maximumSubsets)==2)\n",
    "    #         oneHybridLeaf(T_prime,maximumSubsets)\n",
    "        println(\"Maximal Subsets\", maximumSubsets)\n",
    "        adjLists= oneHybridLeaf()\n",
    "        finalAdjList = returnConsistentAdjList(adjLists) \n",
    "       \n",
    "        addVertex(finalAdjList,-1,[-5]) \n",
    "        \n",
    "        #TODO get -5 and 5 programmatically\n",
    "        addVertex(finalAdjList,-5,[5]) \n",
    "        \n",
    "        println(\"consistentN=\",finalAdjList)       \n",
    "    end\n",
    "end\n",
    "\n",
    "\n",
    "function main_func()\n",
    "\tT= [[1,2,3], [1,2,4], [1,2,5], [2,3,4], [3,4,2], [2,3,5], [3,4,5], [1,3,4],\n",
    "\t[3,4,1], [1,3,5], [1,4,5], [2,4,5],[2,1,3]]\n",
    "\tL= [1,2,3,4,5]\n",
    "\t# set_SN = retComputeSN(T,L)\n",
    "\t# # println(set_SN)\n",
    "\t# var =maximalSubsets(set_SN,L)\n",
    "\t# println(\"Maximal Subsets=\",string(var))\n",
    "\tlevelOne(T,L)\n",
    "end\n",
    "main_func()\n",
    "\n",
    "# consistent= Dict{Int64,Array}(Pair{Int64,Array}(4, [6]),Pair{Int64,Array}(-4, [7, 6, 3]),Pair{Int64,Array}(-3, [4, 5, 8]),Pair{Int64,Array}(2, [7]),Pair{Int64,Array}(-2, [1, 2, 5, 8]),Pair{Int64,Array}(-1, [7, 6]),Pair{Int64,Array}(3, [5]),Pair{Int64,Array}(1, [7]))\n",
    "# 1 element - make edge  \n",
    "# 2 elements - make root"
   ]
  }
 ],
 "metadata": {
  "kernelspec": {
   "display_name": "Julia 0.6.2",
   "language": "julia",
   "name": "julia-0.6"
  },
  "language_info": {
   "file_extension": ".jl",
   "mimetype": "application/julia",
   "name": "julia",
   "version": "0.6.2"
  }
 },
 "nbformat": 4,
 "nbformat_minor": 2
}
