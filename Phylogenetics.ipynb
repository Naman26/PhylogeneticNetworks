{
 "cells": [
  {
   "cell_type": "code",
   "execution_count": 6,
   "metadata": {
    "scrolled": true
   },
   "outputs": [
    {
     "name": "stdout",
     "output_type": "stream",
     "text": [
      "Maximal SubsetsArray{Int64,1}[[3], [4], [1, 2]]\n",
      "consistentN=Dict{Int64,Array}(Pair{Int64,Array}(4, [-3]),Pair{Int64,Array}(-4, [-2, -3, 3]),Pair{Int64,Array}(-3, [4, -4, -1]),Pair{Int64,Array}(2, [-2]),Pair{Int64,Array}(-2, [1, 2, -4, -1]),Pair{Int64,Array}(-1, [-2, -3]),Pair{Int64,Array}(3, [-4]),Pair{Int64,Array}(1, [-2]))\n",
      "Maximal SubsetsArray{Int64,1}[[5], [1, 2, 3, 4]]\n",
      "adjList before adding edge=Dict{Int64,Array}(Pair{Int64,Array}(4, [-3]),Pair{Int64,Array}(-4, [-2, -3, 3]),Pair{Int64,Array}(-3, [4, -4, -1]),Pair{Int64,Array}(2, [-2]),Pair{Int64,Array}(-2, [1, 2, -4, -1]),Pair{Int64,Array}(-1, [-2, -3]),Pair{Int64,Array}(3, [-4]),Pair{Int64,Array}(1, [-2]))\n",
      "adding 5 to adjListDict{Int64,Array}(Pair{Int64,Array}(4, [-3]),Pair{Int64,Array}(-4, [-2, -3, 3]),Pair{Int64,Array}(-3, [4, -4, -1]),Pair{Int64,Array}(2, [-2]),Pair{Int64,Array}(-2, [1, 2, -4, -1]),Pair{Int64,Array}(-1, [-2, -3, -5]),Pair{Int64,Array}(3, [-4]),Pair{Int64,Array}(-5, [-1, 5]),Pair{Int64,Array}(5, [-5]),Pair{Int64,Array}(1, [-2]))\n",
      "[0 0 0 0 0 0 0 0 1 0; 0 0 0 0 0 0 0 0 1 0; 0 0 0 0 0 0 1 0 0 0; 0 0 0 0 0 0 0 1 0 0; 0 0 0 0 0 1 0 0 0 0; 0 0 0 0 1 0 0 0 0 1; 0 0 1 0 0 0 0 1 1 0; 0 0 0 1 0 0 1 0 0 1; 1 1 0 0 0 0 1 0 0 1; 0 0 0 0 0 1 0 1 1 0]\n"
     ]
    },
    {
     "data": {
      "text/plain": [
       "Dict{Int64,Array} with 10 entries:\n",
       "  4  => [8]\n",
       "  -4 => [9, 8, 3]\n",
       "  -3 => [4, 7, 10]\n",
       "  2  => [9]\n",
       "  -2 => [1, 2, 7, 10]\n",
       "  -1 => [9, 8, 6]\n",
       "  3  => [7]\n",
       "  -5 => [10, 5]\n",
       "  5  => [6]\n",
       "  1  => [9]"
      ]
     },
     "execution_count": 6,
     "metadata": {},
     "output_type": "execute_result"
    }
   ],
   "source": [
    "include(\"ComputeSN.jl\")\n",
    "include(\"OneHybridLeaf.jl\")\n",
    "\n",
    "finalAdjList = Dict{Int64,Array}()\n",
    "\n",
    "function levelOne(T,L)\n",
    "\tset_SN = retComputeSN(T,L)\n",
    "\tmaximumSubsets= maximalSubsets(set_SN,L)\n",
    "# \tprintln(\"maximal subsets=\", maximumSubsets)\n",
    "    \n",
    "    N=[]\n",
    "\tfor SN in maximumSubsets\n",
    "\t\tif length(SN)>=3\n",
    "\t\t\t# temp=retComputeSN(T,SN)\n",
    "\t\t\t# maximumSets=maximalSubsets(temp,L)\n",
    "\t\t\t# println(maximumSets)\n",
    "\t\t\tL=SN\n",
    "\t\t\tlevelOne(T,L)\n",
    "\t\telse\n",
    "\t\t\t# tree=\n",
    "            # TODO pending\n",
    "# \t\t\tprintln(\"need to make a tree with these 2 nodes/ make adjacency list\")\n",
    "#             edge with 5 leaf\n",
    "\t\tend\n",
    "\tend\n",
    "    \n",
    "    if(length(maximumSubsets)==2)\n",
    "        println(\"Maximal Subsets\", maximumSubsets)\n",
    "        println(\"adjList before adding edge=\",finalAdjList) \n",
    "        addVertex(finalAdjList,-1,[-5]) \n",
    "        \n",
    "        #TODO get -5 and 5 programmatically\n",
    "        addVertex(finalAdjList,-5,[5]) \n",
    "        println(\"adding 5 to adjList\", finalAdjList)\n",
    "        \n",
    "        adjMatrix = listToMatrix(parseAdjList2(finalAdjList))\n",
    "        println(adjMatrix)\n",
    "        \n",
    "    elseif(length(maximumSubsets)>=3)\n",
    "        \n",
    "#         oneHybridLeaf(T_prime,maximumSubsets)\n",
    "        println(\"Maximal Subsets\", maximumSubsets)\n",
    "#         println(\"SetSn\",set_SN)\n",
    "        adjLists= oneHybridLeaf()\n",
    "        global finalAdjList = returnConsistentAdjList(adjLists) \n",
    "        \n",
    "        println(\"consistentN=\",finalAdjList) \n",
    "        \n",
    "\n",
    "    end\n",
    "    return finalAdjList\n",
    "end\n",
    "\n",
    "function main_func()\n",
    "\tT= [[1,2,3], [1,2,4], [1,2,5], [2,3,4], [3,4,2], [2,3,5], [3,4,5], [1,3,4],\n",
    "\t[3,4,1], [1,3,5], [1,4,5], [2,4,5],[2,1,3]]\n",
    "\tL= [1,2,3,4,5]\n",
    "\t# set_SN = retComputeSN(T,L)\n",
    "\t# # println(set_SN)\n",
    "\t# var =maximalSubsets(set_SN,L)\n",
    "\t# println(\"Maximal Subsets=\",string(var))\n",
    "\tlevelOne(T,L)\n",
    "end\n",
    "main_func()\n",
    "\n",
    "# consistent= Dict{Int64,Array}(Pair{Int64,Array}(4, [6]),Pair{Int64,Array}(-4, [7, 6, 3]),Pair{Int64,Array}(-3, [4, 5, 8]),Pair{Int64,Array}(2, [7]),Pair{Int64,Array}(-2, [1, 2, 5, 8]),Pair{Int64,Array}(-1, [7, 6]),Pair{Int64,Array}(3, [5]),Pair{Int64,Array}(1, [7]))\n",
    "# 1 element - make edge  \n",
    "# 2 elements - make root"
   ]
  },
  {
   "cell_type": "code",
   "execution_count": 3,
   "metadata": {},
   "outputs": [
    {
     "name": "stdout",
     "output_type": "stream",
     "text": [
      "Dict{Int64,Array}(Pair{Int64,Array}(4, [-3]),Pair{Int64,Array}(-4, [-2, -3, 3]),Pair{Int64,Array}(-3, [4, -4, -1]),Pair{Int64,Array}(2, [-2]),Pair{Int64,Array}(-2, [1, 2, -4, -1]),Pair{Int64,Array}(-1, [-2, -3]),Pair{Int64,Array}(3, [-4]),Pair{Int64,Array}(1, [-2]))\n"
     ]
    }
   ],
   "source": []
  }
 ],
 "metadata": {
  "kernelspec": {
   "display_name": "Julia 0.6.2",
   "language": "julia",
   "name": "julia-0.6"
  },
  "language_info": {
   "file_extension": ".jl",
   "mimetype": "application/julia",
   "name": "julia",
   "version": "0.6.2"
  }
 },
 "nbformat": 4,
 "nbformat_minor": 2
}
