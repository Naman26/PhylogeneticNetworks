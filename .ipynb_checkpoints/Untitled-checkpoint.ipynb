{
 "cells": [
  {
   "cell_type": "code",
   "execution_count": 25,
   "metadata": {
    "scrolled": true
   },
   "outputs": [
    {
     "name": "stdout",
     "output_type": "stream",
     "text": [
      "Array{Float64,1}[[0.0, 5.0, 8.0, 9.0], [Inf, 0.0, 3.0, 4.0], [Inf, Inf, 0.0, 1.0], [Inf, Inf, Inf, 0.0]]"
     ]
    }
   ],
   "source": [
    "function floydWarshall(dists)  # graph is 4x4\n",
    "    n = 4\n",
    "    for i = 1 : n\n",
    "        dists[i][i] = 0\n",
    "    end\n",
    "\n",
    "    for k = 1 : n, i = 1 : n, j = 1 : n\n",
    "        d = dists[i][k] + dists[k][j]\n",
    "        if d < dists[i][j]\n",
    "            dists[i][j] = d\n",
    "        end\n",
    "    end\n",
    "    return (dists)\n",
    "end\n",
    "\n",
    "graph = [[0,   5,  Inf, 10],[Inf, 0,   3, Inf],\n",
    "                          [Inf, Inf, 0,   1],\n",
    "                           [Inf, Inf, Inf, 0]]\n",
    "print(floydWarshall(graph))"
   ]
  },
  {
   "cell_type": "code",
   "execution_count": 49,
   "metadata": {},
   "outputs": [
    {
     "name": "stdout",
     "output_type": "stream",
     "text": [
      "false\n"
     ]
    }
   ],
   "source": [
    "array = [[0,0]]\n",
    "# println(typeof(array))\n",
    "\n",
    "array = zeros(Int64,8)\n",
    "container = Array{Int64}[]\n",
    "for i=1:8\n",
    "    push!(container,array)\n",
    "end\n",
    "\n",
    "# println(container)\n",
    "\n",
    "# AdjacencyMatrix = [0 0 0 0 1 0 0 0; 0 0 0 0 1 0 0 0; 0 0 0 0 0 0 1 0; 0 0 0 0 0 1 0 0; 1 1 0 0 0 1 1 0; 0 0 0 1 1 0 0 1; 0 0 1 0 1 0 0 1; 0 0 0 0 0 1 1 0]\n",
    "\n",
    "# AdjacencyMatrix[1,5]= 25\n",
    "\n",
    "# println(AdjacencyMatrix)\n",
    "# in(key =>value,dict)\n",
    "\n",
    "list=[1,2,3]\n",
    "\n",
    "println(any(x->x==4, list)) #if (list[i] conatins j)\n"
   ]
  },
  {
   "cell_type": "code",
   "execution_count": null,
   "metadata": {},
   "outputs": [],
   "source": []
  },
  {
   "cell_type": "code",
   "execution_count": 71,
   "metadata": {},
   "outputs": [
    {
     "name": "stdout",
     "output_type": "stream",
     "text": [
      "4\n",
      "-6\n",
      "-8\n",
      "2\n",
      "3\n",
      "-7\n",
      "-5\n",
      "-9\n",
      "1\n"
     ]
    }
   ],
   "source": [
    "# Dict{Int64,Int64}(1=>-5,2=>-5,3=>-7,4=>-9,-5=>(1,2),-6=>(-5,-7,-8))\n",
    "\n",
    "dict=Dict{Int64,Array}(1=>[-5,3],2=>[-5],3=>[-7],4=>[-9],-5=>[1,2],-6=>[-5,-7,-8],\n",
    "    -7=>[3,-6,-9],-8=>[-6,-9],-9=>[4,-7,-8])\n",
    "\n",
    "\n",
    "# for i = 1 to n\n",
    "#     for j = 1 to n\n",
    "#         if j is in i's adjacency list\n",
    "#             write 1 to the output\n",
    "#         else\n",
    "#             write 0 to the output\n",
    "\n",
    "for k in keys(dict)\n",
    "    println(k)\n",
    "end\n"
   ]
  },
  {
   "cell_type": "code",
   "execution_count": 11,
   "metadata": {
    "scrolled": true
   },
   "outputs": [
    {
     "name": "stdout",
     "output_type": "stream",
     "text": [
      "Dict{Any,Any}(Pair{Any,Any}(2, [-1]),Pair{Any,Any}(3, [-2]),Pair{Any,Any}(-1, [1, 2, -2]),Pair{Any,Any}(-2, [3, -1]),Pair{Any,Any}([2, -2], [1]),Pair{Any,Any}(1, [-1, 2, -2]))"
     ]
    }
   ],
   "source": [
    "# using DataStructures\n",
    "T= [[1,2,3], [1,2,4], [1,2,5], [2,3,4], [3,4,2], [2,3,5], [3,4,5], [1,3,4],\n",
    "[3,4,1], [1,3,5], [1,4,5], [2,4,5],[2,1,3]]\n",
    "# L= [1,2,3,4,5]\n",
    "SNs =[[1,2],[3],[4]]\n",
    "a1= SNs[1]\n",
    "a2= SNs[2]\n",
    "a3= SNs[3]\n",
    "alpha=[]\n",
    "# 123 is same as 213 but not same as 132\n",
    "for i in T\n",
    "    if(findin(i,a1)!=Int64[]&&findin(i,a2)!=Int64[]&&findin(i,a3)!=Int64[])\n",
    "        ds=[]\n",
    "        for j in i\n",
    "            if(findin(j,a1)!=Int64[])\n",
    "                push!(ds,\"a1\")\n",
    "            elseif(findin(j,a2)!=Int64[])\n",
    "                push!(ds,\"a2\")\n",
    "            elseif(findin(j,a3)!=Int64[])\n",
    "                push!(ds,\"a3\")\n",
    "            end\n",
    "        end\n",
    "        push!(alpha,ds)\n",
    "    end\n",
    "end\n",
    "# print(unique(alpha))\n",
    "\n",
    "# value=6\n",
    "# append!(adjList[x],value) # Appending a value\n",
    "# filter!(x -> x!=2,adjList[x]) # Removing a value\n",
    "# print(adjList)\n",
    "# addEdge(adjList,x,4)\n",
    "\n",
    "\n",
    "function addEdge(dictionary, key, value)\n",
    "    # adjList= Dict(-1 => [1,2,3])\n",
    "    # x=-1\n",
    "    # dictionary[key]= value\n",
    "    # value=6\n",
    "    if(haskey(dictionary,key))\n",
    "        append!(dictionary[key],value) # Appending a value\n",
    "    else\n",
    "         dictionary[key]=[value]\n",
    "    end\n",
    "    if(haskey(dictionary,value))\n",
    "        append!(dictionary[value],key) # Appending a value\n",
    "    else\n",
    "         dictionary[value]=[key]\n",
    "    end\n",
    "\n",
    "    # append!(dictionary[value],key) # Appending a value\n",
    "#     print(dictionary)\n",
    "end\n",
    "function removeEdge(dictionary, key, value)\n",
    "    if(haskey(dictionary,key))\n",
    "        # append!(dictionary[key],value)\n",
    "        filter!(x -> x!=value,dictionary[key])\n",
    "        # if(dictionary[key]== Int64[])\n",
    "        #  delete!(dictionary,key)\n",
    "        # end\n",
    "    end\n",
    "    if(haskey(dictionary,value))\n",
    "        # append!(dictionary[key],value)\n",
    "        filter!(x -> x!=key,dictionary[value])\n",
    "        # if(dictionary[value]== Int64[])\n",
    "        #     delete!(dictionary,value)\n",
    "        # end\n",
    "    end\n",
    "\n",
    "\n",
    "    # filter!(x -> x!=value,dictionary[key]) # Removing a value\n",
    "#     print(dictionary)\n",
    "end\n",
    "\n",
    "# adjList= Dict(-1 => [1,2,3])\n",
    "# # x=-1\n",
    "# adjList[-1]= [-4,2,-3]\n",
    "# adjList[2]=[6,9]\n",
    "# # print(adjList)\n",
    "# addEdge(adjList,-1,4)\n",
    "# removeEdge(adjList,-1,4)\n",
    "\n",
    "\n",
    "adjList = Dict()\n",
    "addEdge(adjList,1,-1)\n",
    "addEdge(adjList,2,-1)\n",
    "addEdge(adjList,3,-2)\n",
    "addEdge(adjList,-1,2)\n",
    "\n",
    "print(adjList)\n",
    "\n",
    "addVertex(adjList,-1,[1,2])\n"
   ]
  },
  {
   "cell_type": "code",
   "execution_count": 38,
   "metadata": {},
   "outputs": [
    {
     "name": "stdout",
     "output_type": "stream",
     "text": [
      "Dict{Any,Any}(Pair{Any,Any}(-2, Int64[]),Pair{Any,Any}(-1, Int64[]))"
     ]
    }
   ],
   "source": [
    "function addVertex(dictionary, key, value)\n",
    "    for i in value\n",
    "        if(haskey(dictionary,key))\n",
    "            append!(dictionary[key],i) # Appending a value\n",
    "        else\n",
    "            dictionary[key]=[i]\n",
    "        end\n",
    "        if(haskey(dictionary,i))\n",
    "            append!(dictionary[i],key) # Appending a value\n",
    "        else\n",
    "            dictionary[i]=[key] # Appending a value\n",
    "        end\n",
    "    end\n",
    "end\n",
    "function removeEdge(dictionary, key, value)\n",
    "    for i in value\n",
    "        if(haskey(dictionary,key))\n",
    "            # append!(dictionary[key],value)\n",
    "            filter!(x -> x!=i,dictionary[key])\n",
    "            # if(dictionary[key]== Int64[])\n",
    "            #  delete!(dictionary,key)\n",
    "            # end\n",
    "        end\n",
    "        if(haskey(dictionary,i))\n",
    "            # append!(dictionary[key],value)\n",
    "            filter!(x -> x!=key,dictionary[i])\n",
    "            # if(dictionary[value]== Int64[])\n",
    "            #     delete!(dictionary,value)\n",
    "            # end\n",
    "        end\n",
    "    end\n",
    "    # filter!(x -> x!=value,dictionary[key]) # Removing a value\n",
    "#     print(dictionary)\n",
    "end\n",
    "\n",
    "adjList = Dict()\n",
    "# addVertex(adjList,-1,[1,2])\n",
    "addVertex(adjList,-2,[-1])\n",
    "removeEdge(adjList,-2,[-1])\n",
    "\n",
    "\n",
    "# addVertex(adjList,[-2],[-1,3])\n",
    "# addVertex(adjList,[-3],[-2,4])\n",
    "# addVertex(adjList,[-4],[-3,5])\n",
    "# addVertex(adjList,[-5],[4,3,-3])\n",
    "# removeEdge(adjList,[4],[-3])\n",
    "\n",
    "print(adjList)"
   ]
  }
 ],
 "metadata": {
  "kernelspec": {
   "display_name": "Julia 0.6.2",
   "language": "julia",
   "name": "julia-0.6"
  },
  "language_info": {
   "file_extension": ".jl",
   "mimetype": "application/julia",
   "name": "julia",
   "version": "0.6.2"
  }
 },
 "nbformat": 4,
 "nbformat_minor": 2
}
