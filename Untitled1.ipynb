{
 "cells": [
  {
   "cell_type": "code",
   "execution_count": 36,
   "metadata": {},
   "outputs": [
    {
     "ename": "LoadError",
     "evalue": "\u001b[91mTypeError: Type{...} expression: expected UnionAll, got Type{Array{Array{Float64,1},1}}\u001b[39m",
     "output_type": "error",
     "traceback": [
      "\u001b[91mTypeError: Type{...} expression: expected UnionAll, got Type{Array{Array{Float64,1},1}}\u001b[39m",
      ""
     ]
    }
   ],
   "source": [
    "# Floyd Warshall algorithm to find shortest paths between all pairs of vertices\n",
    "\n",
    "\n",
    "function floyd_warshall!{W}(dists::Array{Array{Float64,1},1}{W}) # dists: minimum distance matrix (initialized to edge distances)\n",
    "\n",
    "    # argument checking\n",
    "\n",
    "    n = size(dists, 1)\n",
    "    if size(dists, 2) != n\n",
    "        throw(ArgumentError(\"dists should be a square matrix.\"))\n",
    "    end\n",
    "\n",
    "    # initialize\n",
    "\n",
    "    for i = 1 : n\n",
    "        dists[i,i] = 0\n",
    "    end\n",
    "\n",
    "    # main loop\n",
    "\n",
    "    for k = 1 : n, i = 1 : n, j = 1 : n\n",
    "        d = dists[i,k] + dists[k,j]\n",
    "        if d < dists[i,j]\n",
    "            dists[i,j] = d\n",
    "        end\n",
    "    end\n",
    "    dists\n",
    "end\n",
    "\n",
    "\n",
    "# function floyd_warshall!{W}(\n",
    "#     dists::AbstractMatrix{W},       # minimum distance matrix (initialized to edge distances)\n",
    "#     nexts::AbstractMatrix{Int})     # nexts(i,j) = the next hop from i when traveling from i to j via shortest path\n",
    "\n",
    "#     # argument checking\n",
    "\n",
    "#     n = size(dists, 1)\n",
    "#     if size(dists, 2) != n\n",
    "#         throw(ArgumentError(\"dists should be a square matrix.\"))\n",
    "#     end\n",
    "\n",
    "#     if size(nexts) != (n, n)\n",
    "#         throw(ArgumentError(\"nexts should be an n-by-n matrix.\"))\n",
    "#     end\n",
    "\n",
    "#     # initialize\n",
    "\n",
    "#     for i = 1 : n\n",
    "#         dists[i,i] = 0\n",
    "#     end\n",
    "\n",
    "#     for j = 1 : n, i = 1 : n\n",
    "#         nexts[i,j] = isfinite(dists[i,j]) ? j : 0\n",
    "#     end\n",
    "\n",
    "#     # main loop\n",
    "\n",
    "#     for k = 1 : n, i = 1 : n, j = 1 : n\n",
    "#         d = dists[i,k] + dists[k,j]\n",
    "#         if d < dists[i,j]\n",
    "#             dists[i,j] = d\n",
    "#             nexts[i,j] = nexts[i,k]\n",
    "#         end\n",
    "#     end\n",
    "\n",
    "#     dists\n",
    "# end\n",
    "\n",
    "\n",
    "# floyd_warshall(weights::AbstractMatrix) = floyd_warshall!(copy(weights))\n",
    "\n"
   ]
  },
  {
   "cell_type": "code",
   "execution_count": 35,
   "metadata": {},
   "outputs": [
    {
     "ename": "LoadError",
     "evalue": "\u001b[91mMethodError: no method matching floyd_warshall(::Array{Array{Float64,1},1})\u001b[0m\nClosest candidates are:\n  floyd_warshall(\u001b[91m::AbstractArray{T,2} where T\u001b[39m) at In[31]:70\u001b[39m",
     "output_type": "error",
     "traceback": [
      "\u001b[91mMethodError: no method matching floyd_warshall(::Array{Array{Float64,1},1})\u001b[0m\nClosest candidates are:\n  floyd_warshall(\u001b[91m::AbstractArray{T,2} where T\u001b[39m) at In[31]:70\u001b[39m",
      ""
     ]
    }
   ],
   "source": [
    "graph = [[0,   5,  Inf, 10],[Inf, 0,   3, Inf],\n",
    "                          [Inf, Inf, 0,   1],\n",
    "                          [Inf, Inf, Inf, 0]]\n",
    "\n",
    "println(floyd_warshall(graph))"
   ]
  }
 ],
 "metadata": {
  "kernelspec": {
   "display_name": "Julia 0.6.2",
   "language": "julia",
   "name": "julia-0.6"
  },
  "language_info": {
   "file_extension": ".jl",
   "mimetype": "application/julia",
   "name": "julia",
   "version": "0.6.2"
  }
 },
 "nbformat": 4,
 "nbformat_minor": 2
}
